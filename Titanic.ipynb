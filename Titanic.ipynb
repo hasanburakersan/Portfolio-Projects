{
 "cells": [
  {
   "cell_type": "code",
   "execution_count": 1,
   "id": "e5c1f073",
   "metadata": {},
   "outputs": [],
   "source": [
    "# Import the necessary libraries\n",
    "\n",
    "import pandas as pd\n",
    "import numpy as np\n",
    "import matplotlib.pyplot as plt\n",
    "import seaborn as sns\n",
    "\n",
    "# Change the display options for a better experience\n",
    "pd.set_option(\"display.max_columns\", None)\n",
    "pd.set_option(\"display.width\", 500)"
   ]
  },
  {
   "cell_type": "code",
   "execution_count": 2,
   "id": "25c80367",
   "metadata": {
    "scrolled": true
   },
   "outputs": [],
   "source": [
    "# Load the Titanic dataset into the variable df.\n",
    "df = sns.load_dataset(\"titanic\")"
   ]
  },
  {
   "cell_type": "markdown",
   "id": "cb1680b1",
   "metadata": {},
   "source": [
    "# HAVE A FIRST LOOK AT THE DATA"
   ]
  },
  {
   "cell_type": "code",
   "execution_count": 3,
   "id": "a0f5eb2b",
   "metadata": {},
   "outputs": [
    {
     "name": "stdout",
     "output_type": "stream",
     "text": [
      "<class 'pandas.core.frame.DataFrame'>\n",
      "RangeIndex: 891 entries, 0 to 890\n",
      "Data columns (total 15 columns):\n",
      " #   Column       Non-Null Count  Dtype   \n",
      "---  ------       --------------  -----   \n",
      " 0   survived     891 non-null    int64   \n",
      " 1   pclass       891 non-null    int64   \n",
      " 2   sex          891 non-null    object  \n",
      " 3   age          714 non-null    float64 \n",
      " 4   sibsp        891 non-null    int64   \n",
      " 5   parch        891 non-null    int64   \n",
      " 6   fare         891 non-null    float64 \n",
      " 7   embarked     889 non-null    object  \n",
      " 8   class        891 non-null    category\n",
      " 9   who          891 non-null    object  \n",
      " 10  adult_male   891 non-null    bool    \n",
      " 11  deck         203 non-null    category\n",
      " 12  embark_town  889 non-null    object  \n",
      " 13  alive        891 non-null    object  \n",
      " 14  alone        891 non-null    bool    \n",
      "dtypes: bool(2), category(2), float64(2), int64(4), object(5)\n",
      "memory usage: 80.7+ KB\n"
     ]
    }
   ],
   "source": [
    "df.info()  # We have a dataset of 891 rows and 15 columns (6 numeric,2 boolean and 7 categorical).\n",
    "# Two of the columns include null values."
   ]
  },
  {
   "cell_type": "code",
   "execution_count": 4,
   "id": "0533d5f2",
   "metadata": {},
   "outputs": [],
   "source": [
    "df.head()  # It seems like we have some unnecessary columns. (\"Survived\"-\"alive\"),(\"pclass\"-\"class\"),\n",
    "# (\"embarked\"-\"embark_town\"),(\"sex\"-\"who\") pairs save the similar information.\n",
    "# Let's just start cleaning the data by removing the \"survived\",\"pclass\",\"who\",\"embarked\" columns\n",
    "# Please note that, I choose  \"survived\" and \"pclass\" over \"alive\" and \"class\" to remove\n",
    "# to keep categorical columns in object or categorical type rather than numeric types.\n",
    "df.drop([\"survived\", \"pclass\", \"who\", \"embarked\"], axis=1, inplace=True)"
   ]
  },
  {
   "cell_type": "code",
   "execution_count": 5,
   "id": "3a8f63bc",
   "metadata": {},
   "outputs": [],
   "source": [
    "# According to my research, \"sibsp\" and \"parch\" represents the number of siblings and number of parents or children\n",
    "# abord, respectively. Let's see if the column \"alone\" is based on that information.\n",
    "\n",
    "df[(df[\"sibsp\"] == 0) & (df[\"parch\"] == 0)].value_counts(\"alone\")\n",
    "df[(df[\"sibsp\"] != 0) & (df[\"parch\"] != 0)].value_counts(\"alone\")\n",
    "# The first line of code says, if both attributes are zero, the only value in the column \"alone\" is True\n",
    "# The second line of code says, if none of them is zero, \"alone\" columns is full of False values.\n",
    "# Therefore, I can create the column \"alone\" whenever I want, so I will remove it for now.\n",
    "df.drop([\"alone\"], axis=1, inplace=True)"
   ]
  },
  {
   "cell_type": "code",
   "execution_count": 6,
   "id": "fc03d7c1",
   "metadata": {},
   "outputs": [],
   "source": [
    "# The column \"adult_male\" is probably based on a condition of sex and age. Let's check.\n",
    "df[df[\"adult_male\"]==True].sex.value_counts()  # Only males, as excepted.\n",
    "df[df[\"adult_male\"]==True].age.min()  # 16 and above are considered to be adult. Noted! Let's drop that column also.\n",
    "df.drop(\"adult_male\",axis=1,inplace=True)"
   ]
  },
  {
   "cell_type": "code",
   "execution_count": 7,
   "id": "f0e7caf5",
   "metadata": {},
   "outputs": [],
   "source": [
    "# The column \"deck\" includes a lot of nulls. Probably it is best to drop it, too\n",
    "df.deck.values.isna().sum()  # 688 out of 891 rows are null. Let's just remove it.\n",
    "df.drop(\"deck\",axis=1,inplace=True)\n",
    "#  We ended up to have 891 rows and 8 columns left. Great job!"
   ]
  },
  {
   "cell_type": "markdown",
   "id": "084c5017",
   "metadata": {},
   "source": [
    "# CATEGORICAL VARIABLE ANALYSIS"
   ]
  },
  {
   "cell_type": "code",
   "execution_count": 8,
   "id": "c1298bb9",
   "metadata": {},
   "outputs": [
    {
     "name": "stdout",
     "output_type": "stream",
     "text": [
      "<class 'pandas.core.frame.DataFrame'>\n",
      "RangeIndex: 891 entries, 0 to 890\n",
      "Data columns (total 8 columns):\n",
      " #   Column       Non-Null Count  Dtype   \n",
      "---  ------       --------------  -----   \n",
      " 0   sex          891 non-null    object  \n",
      " 1   age          714 non-null    float64 \n",
      " 2   sibsp        891 non-null    int64   \n",
      " 3   parch        891 non-null    int64   \n",
      " 4   fare         891 non-null    float64 \n",
      " 5   class        891 non-null    category\n",
      " 6   embark_town  889 non-null    object  \n",
      " 7   alive        891 non-null    object  \n",
      "dtypes: category(1), float64(2), int64(2), object(3)\n",
      "memory usage: 49.9+ KB\n"
     ]
    }
   ],
   "source": [
    "# Let's see which of the remaining columns are non-numerical\n",
    "df.info() # We have 4 unique dtypes remaining : float64,int64,object and category\n",
    "cat_cols = [cols for cols in df.columns if df[cols].dtype in [\"object\", \"category\"]]\n",
    "# Sex,class,embark_town and alive columns are non-numerical. Cool!\n",
    "df_cat = df[cat_cols]"
   ]
  },
  {
   "cell_type": "code",
   "execution_count": 9,
   "id": "01462407",
   "metadata": {},
   "outputs": [],
   "source": [
    "# Let's write a function\n",
    "def cat_summary(df,col_name,plot=False):\n",
    "    print(\"\\n####### {} #######\".format(col_name.upper()))\n",
    "    print(pd.DataFrame({\"Count\":df[col_name].value_counts(), \"Ratio\": round(100*df[col_name].value_counts()/len(df),2)}))\n",
    "    if plot:\n",
    "        sns.countplot(data=df,x=df[col_name])"
   ]
  },
  {
   "cell_type": "code",
   "execution_count": 10,
   "id": "ca970aea",
   "metadata": {},
   "outputs": [
    {
     "name": "stdout",
     "output_type": "stream",
     "text": [
      "\n",
      "####### SEX #######\n",
      "        Count  Ratio\n",
      "male      577  64.76\n",
      "female    314  35.24\n"
     ]
    },
    {
     "data": {
      "image/png": "[encoded data removed]",
      "text/plain": [
       "<Figure size 432x288 with 1 Axes>"
      ]
     },
     "metadata": {
      "needs_background": "light"
     },
     "output_type": "display_data"
    },
    {
     "name": "stdout",
     "output_type": "stream",
     "text": [
      "\n",
      "####### CLASS #######\n",
      "        Count  Ratio\n",
      "Third     491  55.11\n",
      "First     216  24.24\n",
      "Second    184  20.65\n"
     ]
    },
    {
     "data": {
      "image/png": "[encoded data removed]",
      "text/plain": [
       "<Figure size 432x288 with 1 Axes>"
      ]
     },
     "metadata": {
      "needs_background": "light"
     },
     "output_type": "display_data"
    },
    {
     "name": "stdout",
     "output_type": "stream",
     "text": [
      "\n",
      "####### EMBARK_TOWN #######\n",
      "             Count  Ratio\n",
      "Southampton    644  72.28\n",
      "Cherbourg      168  18.86\n",
      "Queenstown      77   8.64\n"
     ]
    },
    {
     "data": {
      "image/png": "[encoded data removed]",
      "text/plain": [
       "<Figure size 432x288 with 1 Axes>"
      ]
     },
     "metadata": {
      "needs_background": "light"
     },
     "output_type": "display_data"
    },
    {
     "name": "stdout",
     "output_type": "stream",
     "text": [
      "\n",
      "####### ALIVE #######\n",
      "     Count  Ratio\n",
      "no     549  61.62\n",
      "yes    342  38.38\n"
     ]
    },
    {
     "data": {
      "image/png": "[encoded data removed]",
      "text/plain": [
       "<Figure size 432x288 with 1 Axes>"
      ]
     },
     "metadata": {
      "needs_background": "light"
     },
     "output_type": "display_data"
    }
   ],
   "source": [
    "for col in df_cat.columns:\n",
    "    cat_summary(df_cat,col,plot=True)\n",
    "    plt.show()"
   ]
  },
  {
   "cell_type": "markdown",
   "id": "97d6bdba",
   "metadata": {},
   "source": [
    "# NUMERICAL VARIABLE ANALYSIS"
   ]
  },
  {
   "cell_type": "code",
   "execution_count": 11,
   "id": "c9eb4824",
   "metadata": {},
   "outputs": [],
   "source": [
    "# Let's first assign the numerical columns into a new variable.\n",
    "df_num=[]\n",
    "for col_name in df.columns:\n",
    "    if col_name not in df_cat.columns:\n",
    "        df_num.append(col_name)\n",
    "        \n",
    "# Awesome! ['age', 'sibsp', 'parch', 'fare'] is the list of numeric columns.\n",
    "df_num = df[df_num]"
   ]
  },
  {
   "cell_type": "code",
   "execution_count": 12,
   "id": "613a1d49",
   "metadata": {},
   "outputs": [],
   "source": [
    "def num_summary(df,col_name,plot=False):\n",
    "    print(\"\\n####### {} #######\".format(col_name.upper()))\n",
    "    print(df[col_name].describe())\n",
    "    sns.histplot(data=df,x=col_name)\n",
    "    plt.show()"
   ]
  },
  {
   "cell_type": "code",
   "execution_count": 13,
   "id": "e5fcb7b6",
   "metadata": {},
   "outputs": [
    {
     "name": "stdout",
     "output_type": "stream",
     "text": [
      "\n",
      "####### AGE #######\n",
      "count    714.000000\n",
      "mean      29.699118\n",
      "std       14.526497\n",
      "min        0.420000\n",
      "25%       20.125000\n",
      "50%       28.000000\n",
      "75%       38.000000\n",
      "max       80.000000\n",
      "Name: age, dtype: float64\n"
     ]
    },
    {
     "data": {
      "image/png": "[encoded data removed]",
      "text/plain": [
       "<Figure size 432x288 with 1 Axes>"
      ]
     },
     "metadata": {
      "needs_background": "light"
     },
     "output_type": "display_data"
    },
    {
     "name": "stdout",
     "output_type": "stream",
     "text": [
      "\n",
      "####### SIBSP #######\n",
      "count    891.000000\n",
      "mean       0.523008\n",
      "std        1.102743\n",
      "min        0.000000\n",
      "25%        0.000000\n",
      "50%        0.000000\n",
      "75%        1.000000\n",
      "max        8.000000\n",
      "Name: sibsp, dtype: float64\n"
     ]
    },
    {
     "data": {
      "image/png": "[encoded data removed]",
      "text/plain": [
       "<Figure size 432x288 with 1 Axes>"
      ]
     },
     "metadata": {
      "needs_background": "light"
     },
     "output_type": "display_data"
    },
    {
     "name": "stdout",
     "output_type": "stream",
     "text": [
      "\n",
      "####### PARCH #######\n",
      "count    891.000000\n",
      "mean       0.381594\n",
      "std        0.806057\n",
      "min        0.000000\n",
      "25%        0.000000\n",
      "50%        0.000000\n",
      "75%        0.000000\n",
      "max        6.000000\n",
      "Name: parch, dtype: float64\n"
     ]
    },
    {
     "data": {
      "image/png": "[encoded data removed]",
      "text/plain": [
       "<Figure size 432x288 with 1 Axes>"
      ]
     },
     "metadata": {
      "needs_background": "light"
     },
     "output_type": "display_data"
    },
    {
     "name": "stdout",
     "output_type": "stream",
     "text": [
      "\n",
      "####### FARE #######\n",
      "count    891.000000\n",
      "mean      32.204208\n",
      "std       49.693429\n",
      "min        0.000000\n",
      "25%        7.910400\n",
      "50%       14.454200\n",
      "75%       31.000000\n",
      "max      512.329200\n",
      "Name: fare, dtype: float64\n"
     ]
    },
    {
     "data": {
      "image/png": "[encoded data removed]",
      "text/plain": [
       "<Figure size 432x288 with 1 Axes>"
      ]
     },
     "metadata": {
      "needs_background": "light"
     },
     "output_type": "display_data"
    }
   ],
   "source": [
    "for col_name in df_num.columns:\n",
    "    num_summary(df_num,col_name)"
   ]
  },
  {
   "cell_type": "markdown",
   "id": "ee47059a",
   "metadata": {},
   "source": [
    "# Target variable analysis"
   ]
  },
  {
   "cell_type": "code",
   "execution_count": 14,
   "id": "d348daf3",
   "metadata": {},
   "outputs": [],
   "source": [
    "# Since Titanic is famous for its crash which resulted in a lot of deaths, let's now try to figure out which factors might \n",
    "# have determined either a passenger died or not i.e \"alive\" vs other columns."
   ]
  },
  {
   "cell_type": "code",
   "execution_count": 50,
   "id": "ab0f265f",
   "metadata": {},
   "outputs": [],
   "source": [
    "# As a remainder, I removed \"survived\" column at the beginning not to have numeric values in a categorical column.\n",
    "# However, I now want to have 1's and 0's to inspect deaths further. So I will re-create the \"survived\" column.\n",
    "df[\"survived\"] = [1 if row==\"yes\" else 0 for row in df.alive]"
   ]
  },
  {
   "cell_type": "code",
   "execution_count": 113,
   "id": "e1e37386",
   "metadata": {},
   "outputs": [],
   "source": [
    "# Let's create a function that calculates the survival percentage according to a categorical column.\n",
    "# And plots the results\n",
    "def survival_percentage(df,column):\n",
    "    if col_name!=\"alive\":  ## I have excluded the column \"alive\" since it is meaningless\n",
    "        print(\"###############\")\n",
    "        print(df.groupby(column)[\"survived\"].mean())\n",
    "        sns.barplot(x=df.groupby(column)[\"survived\"].mean().index,y=list(df.groupby(column)[\"survived\"].mean()))\n",
    "        plt.show()"
   ]
  },
  {
   "cell_type": "code",
   "execution_count": 114,
   "id": "73fcbc68",
   "metadata": {},
   "outputs": [
    {
     "name": "stdout",
     "output_type": "stream",
     "text": [
      "###############\n",
      "sex\n",
      "female    0.742038\n",
      "male      0.188908\n",
      "Name: survived, dtype: float64\n"
     ]
    },
    {
     "data": {
      "image/png": "[encoded data removed]",
      "text/plain": [
       "<Figure size 432x288 with 1 Axes>"
      ]
     },
     "metadata": {
      "needs_background": "light"
     },
     "output_type": "display_data"
    },
    {
     "name": "stdout",
     "output_type": "stream",
     "text": [
      "###############\n",
      "class\n",
      "First     0.629630\n",
      "Second    0.472826\n",
      "Third     0.242363\n",
      "Name: survived, dtype: float64\n"
     ]
    },
    {
     "data": {
      "image/png": "[encoded data removed]",
      "text/plain": [
       "<Figure size 432x288 with 1 Axes>"
      ]
     },
     "metadata": {
      "needs_background": "light"
     },
     "output_type": "display_data"
    },
    {
     "name": "stdout",
     "output_type": "stream",
     "text": [
      "###############\n",
      "embark_town\n",
      "Cherbourg      0.553571\n",
      "Queenstown     0.389610\n",
      "Southampton    0.336957\n",
      "Name: survived, dtype: float64\n"
     ]
    },
    {
     "data": {
      "image/png": "[encoded data removed]",
      "text/plain": [
       "<Figure size 432x288 with 1 Axes>"
      ]
     },
     "metadata": {
      "needs_background": "light"
     },
     "output_type": "display_data"
    }
   ],
   "source": [
    "for col_name in df_cat.columns:\n",
    "    survival_percentage(df,col_name)\n",
    "\n",
    "# Important things to note here, almost 75% of women survived whereas this ratio is 18% for men.\n",
    "# 63% of the first class passengers survived whereas every 3 of 4 person lost their lives in third class."
   ]
  }
 ],
 "metadata": {
  "kernelspec": {
   "display_name": "Python 3 (ipykernel)",
   "language": "python",
   "name": "python3"
  },
  "language_info": {
   "codemirror_mode": {
    "name": "ipython",
    "version": 3
   },
   "file_extension": ".py",
   "mimetype": "text/x-python",
   "name": "python",
   "nbconvert_exporter": "python",
   "pygments_lexer": "ipython3",
   "version": "3.9.12"
  }
 },
 "nbformat": 4,
 "nbformat_minor": 5
}
